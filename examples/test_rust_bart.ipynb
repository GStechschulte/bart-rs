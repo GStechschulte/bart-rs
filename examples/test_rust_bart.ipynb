{
 "cells": [
  {
   "cell_type": "markdown",
   "id": "54534975-79c8-4184-96ff-b3876cdd659b",
   "metadata": {},
   "source": [
    "The code was adapted from: https://www.pymc.io/projects/examples/en/latest/case_studies/BART_introduction.html"
   ]
  },
  {
   "cell_type": "code",
   "execution_count": 10,
   "id": "7c087cca",
   "metadata": {},
   "outputs": [
    {
     "name": "stdout",
     "output_type": "stream",
     "text": [
      "Running on PyMC v5.16.2\n"
     ]
    }
   ],
   "source": [
    "from pathlib import Path\n",
    "\n",
    "import arviz as az\n",
    "import matplotlib.pyplot as plt\n",
    "import numpy as np\n",
    "import pandas as pd\n",
    "import pymc as pm\n",
    "# import pymc_bart as pmb\n",
    "import bart_rs as pmb\n",
    "\n",
    "print(f\"Running on PyMC v{pm.__version__}\")"
   ]
  },
  {
   "cell_type": "code",
   "execution_count": 11,
   "id": "25cf7b45",
   "metadata": {},
   "outputs": [],
   "source": [
    "RANDOM_SEED = 8457\n",
    "rng = np.random.RandomState(RANDOM_SEED)\n",
    "az.style.use(\"arviz-darkgrid\")"
   ]
  },
  {
   "cell_type": "markdown",
   "id": "e4ecf1aa-b9a7-4b01-9a42-518786ae14fa",
   "metadata": {},
   "source": [
    "## Coal mining example"
   ]
  },
  {
   "cell_type": "code",
   "execution_count": 12,
   "id": "4e5dc32c-e26b-4a47-a852-10b9b6b6f0e4",
   "metadata": {},
   "outputs": [],
   "source": [
    "try:\n",
    "    coal = np.loadtxt(Path(\"..\", \"data\", \"coal.csv\"))\n",
    "except FileNotFoundError:\n",
    "    coal = np.loadtxt(pm.get_data(\"coal.csv\"))"
   ]
  },
  {
   "cell_type": "code",
   "execution_count": 13,
   "id": "f90dfe0f-c1d6-4d5a-92e7-c6962e855d98",
   "metadata": {},
   "outputs": [],
   "source": [
    "# discretize data\n",
    "years = int(coal.max() - coal.min())\n",
    "bins = years // 4\n",
    "hist, x_edges = np.histogram(coal, bins=bins)\n",
    "# compute the location of the centers of the discretized data\n",
    "x_centers = x_edges[:-1] + (x_edges[1] - x_edges[0]) / 2\n",
    "# xdata needs to be 2D for BART\n",
    "x_data = x_centers[:, None]\n",
    "# express data as the rate number of disaster per year\n",
    "y_data = hist / 4"
   ]
  },
  {
   "cell_type": "code",
   "execution_count": 16,
   "id": "ab3f7298-0e40-42c8-90a7-2a82fdd511d3",
   "metadata": {},
   "outputs": [
    {
     "name": "stderr",
     "output_type": "stream",
     "text": [
      "/Users/gabestechschulte/miniforge3/envs/bart_rs/lib/python3.12/site-packages/pytensor/tensor/random/op.py:84: FutureWarning: ndim_supp is deprecated. Provide signature instead.\n",
      "  warnings.warn(\n",
      "/Users/gabestechschulte/miniforge3/envs/bart_rs/lib/python3.12/site-packages/pytensor/tensor/random/op.py:94: FutureWarning: ndims_params is deprecated. Provide signature instead.\n",
      "  warnings.warn(\n",
      "/Users/gabestechschulte/miniforge3/envs/bart_rs/lib/python3.12/site-packages/pytensor/tensor/random/op.py:84: FutureWarning: ndim_supp is deprecated. Provide signature instead.\n",
      "  warnings.warn(\n",
      "/Users/gabestechschulte/miniforge3/envs/bart_rs/lib/python3.12/site-packages/pytensor/tensor/random/op.py:94: FutureWarning: ndims_params is deprecated. Provide signature instead.\n",
      "  warnings.warn(\n",
      "/Users/gabestechschulte/miniforge3/envs/bart_rs/lib/python3.12/site-packages/pytensor/tensor/random/op.py:84: FutureWarning: ndim_supp is deprecated. Provide signature instead.\n",
      "  warnings.warn(\n",
      "/Users/gabestechschulte/miniforge3/envs/bart_rs/lib/python3.12/site-packages/pytensor/tensor/random/op.py:94: FutureWarning: ndims_params is deprecated. Provide signature instead.\n",
      "  warnings.warn(\n",
      "Auto-assigning NUTS sampler...\n",
      "Initializing NUTS using jitter+adapt_diag...\n",
      "/Users/gabestechschulte/miniforge3/envs/bart_rs/lib/python3.12/site-packages/pytensor/tensor/random/op.py:84: FutureWarning: ndim_supp is deprecated. Provide signature instead.\n",
      "  warnings.warn(\n",
      "/Users/gabestechschulte/miniforge3/envs/bart_rs/lib/python3.12/site-packages/pytensor/tensor/random/op.py:94: FutureWarning: ndims_params is deprecated. Provide signature instead.\n",
      "  warnings.warn(\n",
      "/Users/gabestechschulte/miniforge3/envs/bart_rs/lib/python3.12/site-packages/pytensor/tensor/random/op.py:84: FutureWarning: ndim_supp is deprecated. Provide signature instead.\n",
      "  warnings.warn(\n",
      "/Users/gabestechschulte/miniforge3/envs/bart_rs/lib/python3.12/site-packages/pytensor/tensor/random/op.py:94: FutureWarning: ndims_params is deprecated. Provide signature instead.\n",
      "  warnings.warn(\n",
      "/Users/gabestechschulte/miniforge3/envs/bart_rs/lib/python3.12/site-packages/pytensor/tensor/random/op.py:84: FutureWarning: ndim_supp is deprecated. Provide signature instead.\n",
      "  warnings.warn(\n",
      "/Users/gabestechschulte/miniforge3/envs/bart_rs/lib/python3.12/site-packages/pytensor/tensor/random/op.py:94: FutureWarning: ndims_params is deprecated. Provide signature instead.\n",
      "  warnings.warn(\n",
      "/Users/gabestechschulte/miniforge3/envs/bart_rs/lib/python3.12/site-packages/pytensor/tensor/random/op.py:84: FutureWarning: ndim_supp is deprecated. Provide signature instead.\n",
      "  warnings.warn(\n",
      "/Users/gabestechschulte/miniforge3/envs/bart_rs/lib/python3.12/site-packages/pytensor/tensor/random/op.py:94: FutureWarning: ndims_params is deprecated. Provide signature instead.\n",
      "  warnings.warn(\n",
      "/Users/gabestechschulte/miniforge3/envs/bart_rs/lib/python3.12/site-packages/pytensor/tensor/random/op.py:84: FutureWarning: ndim_supp is deprecated. Provide signature instead.\n",
      "  warnings.warn(\n",
      "/Users/gabestechschulte/miniforge3/envs/bart_rs/lib/python3.12/site-packages/pytensor/tensor/random/op.py:94: FutureWarning: ndims_params is deprecated. Provide signature instead.\n",
      "  warnings.warn(\n",
      "/Users/gabestechschulte/miniforge3/envs/bart_rs/lib/python3.12/site-packages/pytensor/tensor/random/op.py:84: FutureWarning: ndim_supp is deprecated. Provide signature instead.\n",
      "  warnings.warn(\n",
      "/Users/gabestechschulte/miniforge3/envs/bart_rs/lib/python3.12/site-packages/pytensor/tensor/random/op.py:94: FutureWarning: ndims_params is deprecated. Provide signature instead.\n",
      "  warnings.warn(\n",
      "/Users/gabestechschulte/miniforge3/envs/bart_rs/lib/python3.12/site-packages/pytensor/tensor/random/op.py:84: FutureWarning: ndim_supp is deprecated. Provide signature instead.\n",
      "  warnings.warn(\n",
      "/Users/gabestechschulte/miniforge3/envs/bart_rs/lib/python3.12/site-packages/pytensor/tensor/random/op.py:94: FutureWarning: ndims_params is deprecated. Provide signature instead.\n",
      "  warnings.warn(\n",
      "Multiprocess sampling (4 chains in 4 jobs)\n",
      "NUTS: [μ_]\n"
     ]
    },
    {
     "data": {
      "text/html": [
       "<pre style=\"white-space:pre;overflow-x:auto;line-height:normal;font-family:Menlo,'DejaVu Sans Mono',consolas,'Courier New',monospace\">/Users/gabestechschulte/miniforge3/envs/bart_rs/lib/python3.12/site-packages/rich/live.py:231: UserWarning: install\n",
       "\"ipywidgets\" for Jupyter support\n",
       "  warnings.warn('install \"ipywidgets\" for Jupyter support')\n",
       "</pre>\n"
      ],
      "text/plain": [
       "/Users/gabestechschulte/miniforge3/envs/bart_rs/lib/python3.12/site-packages/rich/live.py:231: UserWarning: install\n",
       "\"ipywidgets\" for Jupyter support\n",
       "  warnings.warn('install \"ipywidgets\" for Jupyter support')\n"
      ]
     },
     "metadata": {},
     "output_type": "display_data"
    },
    {
     "data": {
      "text/html": [
       "<pre style=\"white-space:pre;overflow-x:auto;line-height:normal;font-family:Menlo,'DejaVu Sans Mono',consolas,'Courier New',monospace\"></pre>\n"
      ],
      "text/plain": []
     },
     "metadata": {},
     "output_type": "display_data"
    },
    {
     "data": {
      "text/html": [
       "<pre style=\"white-space:pre;overflow-x:auto;line-height:normal;font-family:Menlo,'DejaVu Sans Mono',consolas,'Courier New',monospace\">\n",
       "</pre>\n"
      ],
      "text/plain": [
       "\n"
      ]
     },
     "metadata": {},
     "output_type": "display_data"
    },
    {
     "name": "stderr",
     "output_type": "stream",
     "text": [
      "/Users/gabestechschulte/miniforge3/envs/bart_rs/lib/python3.12/site-packages/pytensor/tensor/random/op.py:84: FutureWarning: ndim_supp is deprecated. Provide signature instead.\n",
      "  warnings.warn(\n",
      "/Users/gabestechschulte/miniforge3/envs/bart_rs/lib/python3.12/site-packages/pytensor/tensor/random/op.py:94: FutureWarning: ndims_params is deprecated. Provide signature instead.\n",
      "  warnings.warn(\n",
      "/Users/gabestechschulte/miniforge3/envs/bart_rs/lib/python3.12/site-packages/pytensor/tensor/random/op.py:84: FutureWarning: ndim_supp is deprecated. Provide signature instead.\n",
      "  warnings.warn(\n",
      "/Users/gabestechschulte/miniforge3/envs/bart_rs/lib/python3.12/site-packages/pytensor/tensor/random/op.py:94: FutureWarning: ndims_params is deprecated. Provide signature instead.\n",
      "  warnings.warn(\n",
      "/Users/gabestechschulte/miniforge3/envs/bart_rs/lib/python3.12/site-packages/pytensor/tensor/random/op.py:84: FutureWarning: ndim_supp is deprecated. Provide signature instead.\n",
      "  warnings.warn(\n",
      "/Users/gabestechschulte/miniforge3/envs/bart_rs/lib/python3.12/site-packages/pytensor/tensor/random/op.py:94: FutureWarning: ndims_params is deprecated. Provide signature instead.\n",
      "  warnings.warn(\n",
      "/Users/gabestechschulte/miniforge3/envs/bart_rs/lib/python3.12/site-packages/pytensor/tensor/random/op.py:84: FutureWarning: ndim_supp is deprecated. Provide signature instead.\n",
      "  warnings.warn(\n",
      "/Users/gabestechschulte/miniforge3/envs/bart_rs/lib/python3.12/site-packages/pytensor/tensor/random/op.py:94: FutureWarning: ndims_params is deprecated. Provide signature instead.\n",
      "  warnings.warn(\n",
      "/Users/gabestechschulte/miniforge3/envs/bart_rs/lib/python3.12/site-packages/pytensor/tensor/random/op.py:84: FutureWarning: ndim_supp is deprecated. Provide signature instead.\n",
      "  warnings.warn(\n",
      "/Users/gabestechschulte/miniforge3/envs/bart_rs/lib/python3.12/site-packages/pytensor/tensor/random/op.py:94: FutureWarning: ndims_params is deprecated. Provide signature instead.\n",
      "  warnings.warn(\n",
      "/Users/gabestechschulte/miniforge3/envs/bart_rs/lib/python3.12/site-packages/pytensor/tensor/random/op.py:84: FutureWarning: ndim_supp is deprecated. Provide signature instead.\n",
      "  warnings.warn(\n",
      "/Users/gabestechschulte/miniforge3/envs/bart_rs/lib/python3.12/site-packages/pytensor/tensor/random/op.py:94: FutureWarning: ndims_params is deprecated. Provide signature instead.\n",
      "  warnings.warn(\n",
      "/Users/gabestechschulte/miniforge3/envs/bart_rs/lib/python3.12/site-packages/pytensor/tensor/random/op.py:84: FutureWarning: ndim_supp is deprecated. Provide signature instead.\n",
      "  warnings.warn(\n",
      "/Users/gabestechschulte/miniforge3/envs/bart_rs/lib/python3.12/site-packages/pytensor/tensor/random/op.py:94: FutureWarning: ndims_params is deprecated. Provide signature instead.\n",
      "  warnings.warn(\n",
      "/Users/gabestechschulte/miniforge3/envs/bart_rs/lib/python3.12/site-packages/pytensor/tensor/random/op.py:84: FutureWarning: ndim_supp is deprecated. Provide signature instead.\n",
      "  warnings.warn(\n",
      "/Users/gabestechschulte/miniforge3/envs/bart_rs/lib/python3.12/site-packages/pytensor/tensor/random/op.py:94: FutureWarning: ndims_params is deprecated. Provide signature instead.\n",
      "  warnings.warn(\n",
      "Sampling 4 chains for 1_000 tune and 1_000 draw iterations (4_000 + 4_000 draws total) took 5 seconds.\n",
      "/Users/gabestechschulte/miniforge3/envs/bart_rs/lib/python3.12/site-packages/pytensor/tensor/random/op.py:84: FutureWarning: ndim_supp is deprecated. Provide signature instead.\n",
      "  warnings.warn(\n",
      "/Users/gabestechschulte/miniforge3/envs/bart_rs/lib/python3.12/site-packages/pytensor/tensor/random/op.py:94: FutureWarning: ndims_params is deprecated. Provide signature instead.\n",
      "  warnings.warn(\n",
      "/Users/gabestechschulte/miniforge3/envs/bart_rs/lib/python3.12/site-packages/pytensor/tensor/random/op.py:84: FutureWarning: ndim_supp is deprecated. Provide signature instead.\n",
      "  warnings.warn(\n",
      "/Users/gabestechschulte/miniforge3/envs/bart_rs/lib/python3.12/site-packages/pytensor/tensor/random/op.py:94: FutureWarning: ndims_params is deprecated. Provide signature instead.\n",
      "  warnings.warn(\n",
      "/Users/gabestechschulte/miniforge3/envs/bart_rs/lib/python3.12/site-packages/pytensor/tensor/random/op.py:84: FutureWarning: ndim_supp is deprecated. Provide signature instead.\n",
      "  warnings.warn(\n",
      "/Users/gabestechschulte/miniforge3/envs/bart_rs/lib/python3.12/site-packages/pytensor/tensor/random/op.py:94: FutureWarning: ndims_params is deprecated. Provide signature instead.\n",
      "  warnings.warn(\n",
      "/Users/gabestechschulte/miniforge3/envs/bart_rs/lib/python3.12/site-packages/pytensor/tensor/random/op.py:84: FutureWarning: ndim_supp is deprecated. Provide signature instead.\n",
      "  warnings.warn(\n",
      "/Users/gabestechschulte/miniforge3/envs/bart_rs/lib/python3.12/site-packages/pytensor/tensor/random/op.py:94: FutureWarning: ndims_params is deprecated. Provide signature instead.\n",
      "  warnings.warn(\n",
      "There were 108 divergences after tuning. Increase `target_accept` or reparameterize.\n",
      "The rhat statistic is larger than 1.01 for some parameters. This indicates problems during sampling. See https://arxiv.org/abs/1903.08008 for details\n",
      "The effective sample size per chain is smaller than 100 for some parameters.  A higher number is needed for reliable rhat and ess computation. See https://arxiv.org/abs/1903.08008 for details\n"
     ]
    }
   ],
   "source": [
    "with pm.Model() as model_coal:\n",
    "    μ_ = pmb.BART(\"μ_\", X=x_data, Y=y_data, m=50)\n",
    "    μ = pm.Deterministic(\"μ\", np.abs(μ_))\n",
    "    y_pred = pm.Poisson(\"y_pred\", mu=μ, observed=y_data)\n",
    "    idata_coal = pm.sample(random_seed=RANDOM_SEED)"
   ]
  },
  {
   "cell_type": "code",
   "execution_count": 17,
   "id": "c051a9ff-08d3-4257-94e8-2d65c86d6c31",
   "metadata": {},
   "outputs": [
    {
     "data": {
      "image/png": "[encoded data removed]",
      "text/plain": [
       "<Figure size 800x300 with 1 Axes>"
      ]
     },
     "metadata": {},
     "output_type": "display_data"
    }
   ],
   "source": [
    "_, ax = plt.subplots(figsize=(8, 3))\n",
    "\n",
    "rates = idata_coal.posterior[\"μ\"]\n",
    "rate_mean = idata_coal.posterior[\"μ\"].mean(dim=[\"draw\", \"chain\"])\n",
    "ax.plot(x_centers, rate_mean, \"w\", lw=3)\n",
    "az.plot_hdi(x_centers, rates, smooth=False)\n",
    "az.plot_hdi(x_centers, rates, hdi_prob=0.5, smooth=False, plot_kwargs={\"alpha\": 0})\n",
    "ax.plot(coal, np.zeros_like(coal) - 0.5, \"k|\")\n",
    "ax.set_xlabel(\"years\")\n",
    "ax.set_ylabel(\"rate\");"
   ]
  },
  {
   "cell_type": "markdown",
   "id": "83da6e4e-f86b-4bf8-adc8-f14767ed57bb",
   "metadata": {},
   "source": [
    "## Bike sharing example"
   ]
  },
  {
   "cell_type": "code",
   "execution_count": 18,
   "id": "099f4c0e",
   "metadata": {},
   "outputs": [],
   "source": [
    "try:\n",
    "    bikes = pd.read_csv(Path(\"..\", \"data\", \"bikes.csv\"))\n",
    "except FileNotFoundError:\n",
    "    bikes = pd.read_csv(pm.get_data(\"bikes.csv\"))\n",
    "\n",
    "X = bikes[[\"hour\", \"temperature\", \"humidity\", \"workingday\"]]\n",
    "Y = bikes[\"count\"]"
   ]
  },
  {
   "cell_type": "code",
   "execution_count": 22,
   "id": "b3d5d00c",
   "metadata": {},
   "outputs": [
    {
     "data": {
      "text/plain": [
       "(348, 4)"
      ]
     },
     "execution_count": 22,
     "metadata": {},
     "output_type": "execute_result"
    }
   ],
   "source": [
    "X.shape"
   ]
  },
  {
   "cell_type": "code",
   "execution_count": 21,
   "id": "6183ab65-423b-4f9b-bb12-afb792cf8669",
   "metadata": {},
   "outputs": [
    {
     "name": "stderr",
     "output_type": "stream",
     "text": [
      "/Users/gabestechschulte/miniforge3/envs/bart_rs/lib/python3.12/site-packages/pytensor/tensor/random/op.py:84: FutureWarning: ndim_supp is deprecated. Provide signature instead.\n",
      "  warnings.warn(\n",
      "/Users/gabestechschulte/miniforge3/envs/bart_rs/lib/python3.12/site-packages/pytensor/tensor/random/op.py:94: FutureWarning: ndims_params is deprecated. Provide signature instead.\n",
      "  warnings.warn(\n",
      "/Users/gabestechschulte/miniforge3/envs/bart_rs/lib/python3.12/site-packages/pytensor/tensor/random/op.py:84: FutureWarning: ndim_supp is deprecated. Provide signature instead.\n",
      "  warnings.warn(\n",
      "/Users/gabestechschulte/miniforge3/envs/bart_rs/lib/python3.12/site-packages/pytensor/tensor/random/op.py:94: FutureWarning: ndims_params is deprecated. Provide signature instead.\n",
      "  warnings.warn(\n",
      "/Users/gabestechschulte/miniforge3/envs/bart_rs/lib/python3.12/site-packages/pytensor/tensor/random/op.py:84: FutureWarning: ndim_supp is deprecated. Provide signature instead.\n",
      "  warnings.warn(\n",
      "/Users/gabestechschulte/miniforge3/envs/bart_rs/lib/python3.12/site-packages/pytensor/tensor/random/op.py:94: FutureWarning: ndims_params is deprecated. Provide signature instead.\n",
      "  warnings.warn(\n",
      "Auto-assigning NUTS sampler...\n",
      "Initializing NUTS using jitter+adapt_diag...\n",
      "/Users/gabestechschulte/miniforge3/envs/bart_rs/lib/python3.12/site-packages/pytensor/tensor/random/op.py:84: FutureWarning: ndim_supp is deprecated. Provide signature instead.\n",
      "  warnings.warn(\n",
      "/Users/gabestechschulte/miniforge3/envs/bart_rs/lib/python3.12/site-packages/pytensor/tensor/random/op.py:94: FutureWarning: ndims_params is deprecated. Provide signature instead.\n",
      "  warnings.warn(\n",
      "/Users/gabestechschulte/miniforge3/envs/bart_rs/lib/python3.12/site-packages/pytensor/tensor/random/op.py:84: FutureWarning: ndim_supp is deprecated. Provide signature instead.\n",
      "  warnings.warn(\n",
      "/Users/gabestechschulte/miniforge3/envs/bart_rs/lib/python3.12/site-packages/pytensor/tensor/random/op.py:94: FutureWarning: ndims_params is deprecated. Provide signature instead.\n",
      "  warnings.warn(\n",
      "/Users/gabestechschulte/miniforge3/envs/bart_rs/lib/python3.12/site-packages/pytensor/tensor/random/op.py:84: FutureWarning: ndim_supp is deprecated. Provide signature instead.\n",
      "  warnings.warn(\n",
      "/Users/gabestechschulte/miniforge3/envs/bart_rs/lib/python3.12/site-packages/pytensor/tensor/random/op.py:94: FutureWarning: ndims_params is deprecated. Provide signature instead.\n",
      "  warnings.warn(\n",
      "/Users/gabestechschulte/miniforge3/envs/bart_rs/lib/python3.12/site-packages/pytensor/tensor/random/op.py:84: FutureWarning: ndim_supp is deprecated. Provide signature instead.\n",
      "  warnings.warn(\n",
      "/Users/gabestechschulte/miniforge3/envs/bart_rs/lib/python3.12/site-packages/pytensor/tensor/random/op.py:94: FutureWarning: ndims_params is deprecated. Provide signature instead.\n",
      "  warnings.warn(\n",
      "/Users/gabestechschulte/miniforge3/envs/bart_rs/lib/python3.12/site-packages/pytensor/tensor/random/op.py:84: FutureWarning: ndim_supp is deprecated. Provide signature instead.\n",
      "  warnings.warn(\n",
      "/Users/gabestechschulte/miniforge3/envs/bart_rs/lib/python3.12/site-packages/pytensor/tensor/random/op.py:94: FutureWarning: ndims_params is deprecated. Provide signature instead.\n",
      "  warnings.warn(\n",
      "/Users/gabestechschulte/miniforge3/envs/bart_rs/lib/python3.12/site-packages/pytensor/tensor/random/op.py:84: FutureWarning: ndim_supp is deprecated. Provide signature instead.\n",
      "  warnings.warn(\n",
      "/Users/gabestechschulte/miniforge3/envs/bart_rs/lib/python3.12/site-packages/pytensor/tensor/random/op.py:94: FutureWarning: ndims_params is deprecated. Provide signature instead.\n",
      "  warnings.warn(\n",
      "/Users/gabestechschulte/miniforge3/envs/bart_rs/lib/python3.12/site-packages/pytensor/tensor/random/op.py:84: FutureWarning: ndim_supp is deprecated. Provide signature instead.\n",
      "  warnings.warn(\n",
      "/Users/gabestechschulte/miniforge3/envs/bart_rs/lib/python3.12/site-packages/pytensor/tensor/random/op.py:94: FutureWarning: ndims_params is deprecated. Provide signature instead.\n",
      "  warnings.warn(\n",
      "Multiprocess sampling (4 chains in 4 jobs)\n",
      "NUTS: [σ, μ]\n"
     ]
    },
    {
     "data": {
      "text/html": [
       "<pre style=\"white-space:pre;overflow-x:auto;line-height:normal;font-family:Menlo,'DejaVu Sans Mono',consolas,'Courier New',monospace\">/Users/gabestechschulte/miniforge3/envs/bart_rs/lib/python3.12/site-packages/rich/live.py:231: UserWarning: install\n",
       "\"ipywidgets\" for Jupyter support\n",
       "  warnings.warn('install \"ipywidgets\" for Jupyter support')\n",
       "</pre>\n"
      ],
      "text/plain": [
       "/Users/gabestechschulte/miniforge3/envs/bart_rs/lib/python3.12/site-packages/rich/live.py:231: UserWarning: install\n",
       "\"ipywidgets\" for Jupyter support\n",
       "  warnings.warn('install \"ipywidgets\" for Jupyter support')\n"
      ]
     },
     "metadata": {},
     "output_type": "display_data"
    },
    {
     "data": {
      "text/html": [
       "<pre style=\"white-space:pre;overflow-x:auto;line-height:normal;font-family:Menlo,'DejaVu Sans Mono',consolas,'Courier New',monospace\"></pre>\n"
      ],
      "text/plain": []
     },
     "metadata": {},
     "output_type": "display_data"
    },
    {
     "data": {
      "text/html": [
       "<pre style=\"white-space:pre;overflow-x:auto;line-height:normal;font-family:Menlo,'DejaVu Sans Mono',consolas,'Courier New',monospace\">\n",
       "</pre>\n"
      ],
      "text/plain": [
       "\n"
      ]
     },
     "metadata": {},
     "output_type": "display_data"
    },
    {
     "name": "stderr",
     "output_type": "stream",
     "text": [
      "/Users/gabestechschulte/miniforge3/envs/bart_rs/lib/python3.12/site-packages/pytensor/tensor/random/op.py:84: FutureWarning: ndim_supp is deprecated. Provide signature instead.\n",
      "  warnings.warn(\n",
      "/Users/gabestechschulte/miniforge3/envs/bart_rs/lib/python3.12/site-packages/pytensor/tensor/random/op.py:94: FutureWarning: ndims_params is deprecated. Provide signature instead.\n",
      "  warnings.warn(\n",
      "/Users/gabestechschulte/miniforge3/envs/bart_rs/lib/python3.12/site-packages/pytensor/tensor/random/op.py:84: FutureWarning: ndim_supp is deprecated. Provide signature instead.\n",
      "  warnings.warn(\n",
      "/Users/gabestechschulte/miniforge3/envs/bart_rs/lib/python3.12/site-packages/pytensor/tensor/random/op.py:94: FutureWarning: ndims_params is deprecated. Provide signature instead.\n",
      "  warnings.warn(\n",
      "/Users/gabestechschulte/miniforge3/envs/bart_rs/lib/python3.12/site-packages/pytensor/tensor/random/op.py:84: FutureWarning: ndim_supp is deprecated. Provide signature instead.\n",
      "  warnings.warn(\n",
      "/Users/gabestechschulte/miniforge3/envs/bart_rs/lib/python3.12/site-packages/pytensor/tensor/random/op.py:94: FutureWarning: ndims_params is deprecated. Provide signature instead.\n",
      "  warnings.warn(\n",
      "/Users/gabestechschulte/miniforge3/envs/bart_rs/lib/python3.12/site-packages/pytensor/tensor/random/op.py:84: FutureWarning: ndim_supp is deprecated. Provide signature instead.\n",
      "  warnings.warn(\n",
      "/Users/gabestechschulte/miniforge3/envs/bart_rs/lib/python3.12/site-packages/pytensor/tensor/random/op.py:94: FutureWarning: ndims_params is deprecated. Provide signature instead.\n",
      "  warnings.warn(\n",
      "/Users/gabestechschulte/miniforge3/envs/bart_rs/lib/python3.12/site-packages/pytensor/tensor/random/op.py:84: FutureWarning: ndim_supp is deprecated. Provide signature instead.\n",
      "  warnings.warn(\n",
      "/Users/gabestechschulte/miniforge3/envs/bart_rs/lib/python3.12/site-packages/pytensor/tensor/random/op.py:94: FutureWarning: ndims_params is deprecated. Provide signature instead.\n",
      "  warnings.warn(\n",
      "/Users/gabestechschulte/miniforge3/envs/bart_rs/lib/python3.12/site-packages/pytensor/tensor/random/op.py:84: FutureWarning: ndim_supp is deprecated. Provide signature instead.\n",
      "  warnings.warn(\n",
      "/Users/gabestechschulte/miniforge3/envs/bart_rs/lib/python3.12/site-packages/pytensor/tensor/random/op.py:94: FutureWarning: ndims_params is deprecated. Provide signature instead.\n",
      "  warnings.warn(\n",
      "/Users/gabestechschulte/miniforge3/envs/bart_rs/lib/python3.12/site-packages/pytensor/tensor/random/op.py:84: FutureWarning: ndim_supp is deprecated. Provide signature instead.\n",
      "  warnings.warn(\n",
      "/Users/gabestechschulte/miniforge3/envs/bart_rs/lib/python3.12/site-packages/pytensor/tensor/random/op.py:94: FutureWarning: ndims_params is deprecated. Provide signature instead.\n",
      "  warnings.warn(\n",
      "/Users/gabestechschulte/miniforge3/envs/bart_rs/lib/python3.12/site-packages/pytensor/tensor/random/op.py:84: FutureWarning: ndim_supp is deprecated. Provide signature instead.\n",
      "  warnings.warn(\n",
      "/Users/gabestechschulte/miniforge3/envs/bart_rs/lib/python3.12/site-packages/pytensor/tensor/random/op.py:94: FutureWarning: ndims_params is deprecated. Provide signature instead.\n",
      "  warnings.warn(\n",
      "Sampling 4 chains for 1_000 tune and 1_000 draw iterations (4_000 + 4_000 draws total) took 5 seconds.\n",
      "/Users/gabestechschulte/miniforge3/envs/bart_rs/lib/python3.12/site-packages/pytensor/tensor/random/op.py:84: FutureWarning: ndim_supp is deprecated. Provide signature instead.\n",
      "  warnings.warn(\n",
      "/Users/gabestechschulte/miniforge3/envs/bart_rs/lib/python3.12/site-packages/pytensor/tensor/random/op.py:94: FutureWarning: ndims_params is deprecated. Provide signature instead.\n",
      "  warnings.warn(\n",
      "/Users/gabestechschulte/miniforge3/envs/bart_rs/lib/python3.12/site-packages/pytensor/tensor/random/op.py:84: FutureWarning: ndim_supp is deprecated. Provide signature instead.\n",
      "  warnings.warn(\n",
      "/Users/gabestechschulte/miniforge3/envs/bart_rs/lib/python3.12/site-packages/pytensor/tensor/random/op.py:94: FutureWarning: ndims_params is deprecated. Provide signature instead.\n",
      "  warnings.warn(\n",
      "/Users/gabestechschulte/miniforge3/envs/bart_rs/lib/python3.12/site-packages/pytensor/tensor/random/op.py:84: FutureWarning: ndim_supp is deprecated. Provide signature instead.\n",
      "  warnings.warn(\n",
      "/Users/gabestechschulte/miniforge3/envs/bart_rs/lib/python3.12/site-packages/pytensor/tensor/random/op.py:94: FutureWarning: ndims_params is deprecated. Provide signature instead.\n",
      "  warnings.warn(\n",
      "/Users/gabestechschulte/miniforge3/envs/bart_rs/lib/python3.12/site-packages/pytensor/tensor/random/op.py:84: FutureWarning: ndim_supp is deprecated. Provide signature instead.\n",
      "  warnings.warn(\n",
      "/Users/gabestechschulte/miniforge3/envs/bart_rs/lib/python3.12/site-packages/pytensor/tensor/random/op.py:94: FutureWarning: ndims_params is deprecated. Provide signature instead.\n",
      "  warnings.warn(\n",
      "There were 80 divergences after tuning. Increase `target_accept` or reparameterize.\n",
      "The rhat statistic is larger than 1.01 for some parameters. This indicates problems during sampling. See https://arxiv.org/abs/1903.08008 for details\n",
      "The effective sample size per chain is smaller than 100 for some parameters.  A higher number is needed for reliable rhat and ess computation. See https://arxiv.org/abs/1903.08008 for details\n"
     ]
    }
   ],
   "source": [
    "with pm.Model() as model_bikes:\n",
    "    σ = pm.HalfNormal(\"σ\", Y.std())\n",
    "    μ = pmb.BART(\"μ\", X, Y, m=50)\n",
    "    y = pm.Normal(\"y\", μ, σ, observed=Y)\n",
    "    idata_bikes = pm.sample(random_seed=RANDOM_SEED)"
   ]
  }
 ],
 "metadata": {
  "kernelspec": {
   "display_name": "bart_rs",
   "language": "python",
   "name": "python3"
  },
  "language_info": {
   "codemirror_mode": {
    "name": "ipython",
    "version": 3
   },
   "file_extension": ".py",
   "mimetype": "text/x-python",
   "name": "python",
   "nbconvert_exporter": "python",
   "pygments_lexer": "ipython3",
   "version": "3.12.4"
  }
 },
 "nbformat": 4,
 "nbformat_minor": 5
}
